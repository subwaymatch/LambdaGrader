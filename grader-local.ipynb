{
 "cells": [
  {
   "cell_type": "code",
   "execution_count": 1,
   "metadata": {},
   "outputs": [],
   "source": [
    "import glob\n",
    "import nbformat\n",
    "from nbformat.v4 import new_code_cell\n",
    "from nbconvert import HTMLExporter\n",
    "from nbconvert.preprocessors import ExecutePreprocessor, CellExecutionError\n",
    "import re\n",
    "import textwrap\n",
    "import shutil\n",
    "import json\n",
    "import pandas as pd\n",
    "from pathlib import Path\n",
    "from datetime import datetime\n"
   ]
  },
  {
   "cell_type": "code",
   "execution_count": 3,
   "metadata": {},
   "outputs": [
    {
     "data": {
      "text/plain": [
       "['../submissions/case-study-04\\\\angeloalvino_10490_6521576_case_study_04_rideshare_trips.ipynb',\n",
       " '../submissions/case-study-04\\\\badilloguadalupe_40209_6559837_case_study_04_rideshare_trips.ipynb',\n",
       " '../submissions/case-study-04\\\\bahenadenise_31344_6558259_case_study_04_rideshare_trips.ipynb',\n",
       " '../submissions/case-study-04\\\\battaarnav_7441_6557146_case_study_04_rideshare_trips.ipynb',\n",
       " '../submissions/case-study-04\\\\fukagairikuto_337180_6508239_case_study_04_rideshare_trips.ipynb']"
      ]
     },
     "execution_count": 3,
     "metadata": {},
     "output_type": "execute_result"
    }
   ],
   "source": [
    "fpaths = glob.glob('../submissions/case-study-04/*.ipynb')\n",
    "fpaths = list(filter(lambda f: not f.endswith('-graded.ipynb'), fpaths))\n",
    "fpaths[:5]"
   ]
  },
  {
   "cell_type": "code",
   "execution_count": 2,
   "metadata": {},
   "outputs": [
    {
     "data": {
      "text/plain": [
       "['test-notebooks/PCard-20230203-test.ipynb']"
      ]
     },
     "execution_count": 2,
     "metadata": {},
     "output_type": "execute_result"
    }
   ],
   "source": [
    "fpaths = glob.glob('test-notebooks/PCard-20230203-test.ipynb')\n",
    "fpaths = list(filter(lambda f: not f.endswith('-graded.ipynb'), fpaths))\n",
    "fpaths"
   ]
  },
  {
   "cell_type": "code",
   "execution_count": 3,
   "metadata": {},
   "outputs": [
    {
     "name": "stdout",
     "output_type": "stream",
     "text": [
      "=============================\n",
      "Running test-notebooks/PCard-20230203-test-graded.ipynb successful\n",
      "Stored graded result as JSON to test-notebooks/PCard-20230203-test-result.json\n",
      "{'filename': 'PCard-20230203-test-graded.ipynb', 'grading_finished_at': '2023-02-03T08:07:23.393955', 'grading_duration_in_seconds': 21, 'learner_score': 82, 'total_available': 82, 'num_test_cases': 20, 'num_passed_cases': 20, 'num_failed_cases': 0, 'summary': 'File: PCard-20230203-test-graded.ipynb\\nScore: 82 out of 82\\nPassed 20 out of 20 test cases\\nGrading took 21 seconds\\n\\nTest Case Summary\\n1B: Create a list of column names passed: 2 out of 2 points\\n1C: Read the CSV files into Pandas DataFrames passed: 3 out of 3 points\\n1D: Filter only relevant data passed: 2 out of 2 points\\n1E: Concatenate all transactions passed: 2 out of 2 points\\n1F: Convert different date string formats into datetime types passed: 4 out of 4 points\\n1G: Convert transaction_date and posted_date columns to datetime types passed: 3 out of 3 points\\n1H: Convert amount column to float type passed: 3 out of 3 points\\n1I: Clean up text (string) columns passed: 3 out of 3 points\\n2A: Filter 2014 transactions passed: 2 out of 2 points\\n2B: Create a concatenated unique_name column passed: 2 out of 2 points\\n2C: Create a month column passed: 2 out of 2 points\\n2D: Remove unused columns passed: 2 out of 2 points\\nAnalysis 1: Most expensive transactions by month in 2014 passed: 8 out of 8 points\\nAnalysis 2: Cardholders with the largest number of transactions in 2014 passed: 6 out of 6 points\\nAnalysis 3: Total amount spent by Merchant Category Code passed: 6 out of 6 points\\nICT 1: Employee monthly spending limit passed: 6 out of 6 points\\nICT 2: Splitting a large purchase into multiple smaller transactions passed: 7 out of 7 points\\nFT 1: Benford Analysis passed: 7 out of 7 points\\nFT 2A: Duplicate Transactions passed: 6 out of 6 points\\nFT 2B: Duplicate Transactions (Worst Offenders) passed: 6 out of 6 points\\n'}\n"
     ]
    }
   ],
   "source": [
    "from lambdagrader import *\n",
    "\n",
    "graded_results = []\n",
    "\n",
    "for notebook_path in fpaths:\n",
    "    try:\n",
    "        print('=============================')\n",
    "        nb = nbformat.read(notebook_path, as_version=4)\n",
    "        \n",
    "        for cell in nb.cells:\n",
    "            test_case_metadata = extract_test_case_metadata_from_cell(cell.source)\n",
    "\n",
    "            if test_case_metadata:\n",
    "                cell.source = convert_to_grader_code(cell.source)\n",
    "\n",
    "            converted_notebook_path = notebook_path.replace('.ipynb', '-graded.ipynb')\n",
    "            graded_notebook_filename = Path(converted_notebook_path).name\n",
    "\n",
    "        add_scripts_to_notebook(nb)\n",
    "\n",
    "        with open(converted_notebook_path, mode='w', encoding='utf-8') as f:\n",
    "            nbformat.write(nb, f)\n",
    "\n",
    "        nb = nbformat.read(converted_notebook_path, as_version=4)\n",
    "        \n",
    "        ep = ExecutePreprocessor(\n",
    "            timeout=600,\n",
    "            kernel_name='python3',\n",
    "            allow_errors=True\n",
    "        )\n",
    "        ep.preprocess(nb)\n",
    "        print(f'Running {converted_notebook_path} successful')\n",
    "        \n",
    "        graded_result_json_path = notebook_path.replace('.ipynb', '-result.json')\n",
    "        shutil.move('lambdagrader-result.json', graded_result_json_path)\n",
    "        print(f'Stored graded result as JSON to {graded_result_json_path}')\n",
    "        \n",
    "        with open(graded_result_json_path, mode='r') as f:\n",
    "            graded_result = json.load(f)\n",
    "            \n",
    "        summary = ''\n",
    "        summary += f\"File: {graded_notebook_filename}\\n\"\n",
    "        summary += f\"Score: {graded_result['learner_score']} out of {graded_result['total_available']}\\n\"\n",
    "        summary += f\"Passed {graded_result['num_passed_cases']} out of {graded_result['num_test_cases']} test cases\\n\"\n",
    "        summary += f\"Grading took {graded_result['grading_duration_in_seconds']} seconds\\n\\n\"\n",
    "        summary += 'Test Case Summary\\n'\n",
    "        \n",
    "        for o in graded_result['results']:\n",
    "            summary += f\"{o['test_case_name']} {'passed' if o['pass'] else 'failed'}: {o['points']} out of {o['available_points']} points\\n\"\n",
    "            \n",
    "            if not o['pass']:\n",
    "                summary += f\"[Autograder Output]\\n{o['message']}\\n\\n\"\n",
    "                \n",
    "        result_summary = {\n",
    "            'filename': graded_notebook_filename,\n",
    "            'grading_finished_at': graded_result['grading_finished_at'],\n",
    "            'grading_duration_in_seconds': graded_result['grading_duration_in_seconds'],\n",
    "            'learner_score': graded_result['learner_score'],\n",
    "            'total_available': graded_result['total_available'],\n",
    "            'num_test_cases': graded_result['num_test_cases'],\n",
    "            'num_passed_cases': graded_result['num_passed_cases'],\n",
    "            'num_failed_cases': graded_result['num_failed_cases'],\n",
    "            'summary': summary\n",
    "        }\n",
    "        \n",
    "        print(result_summary)\n",
    "        graded_results.append(result_summary)\n",
    "    except CellExecutionError as e:\n",
    "        print(f'CellExecutionError on {notebook_path}')\n",
    "        print('-----------------------------')\n",
    "        print(e)\n",
    "        \n",
    "df_summary = pd.DataFrame(graded_results)\n",
    "\n",
    "df_summary.to_csv(\n",
    "    f\"graded_result_{datetime.now().strftime('%Y%m%d_%H%M%S')}.csv\",\n",
    "    index=None\n",
    ")"
   ]
  },
  {
   "cell_type": "code",
   "execution_count": 5,
   "metadata": {},
   "outputs": [
    {
     "name": "stdout",
     "output_type": "stream",
     "text": [
      "80.0\n"
     ]
    }
   ],
   "source": [
    "from lambdagrader import *\n",
    "\n",
    "tcs = extract_test_cases_metadata_from_notebook( '../notebooks\\\\case-study-04-rideshare-trips-SOLUTION.ipynb')\n",
    "\n",
    "s = 0\n",
    "\n",
    "for o in tcs:\n",
    "    s += o['points']\n",
    "    \n",
    "print(s)"
   ]
  }
 ],
 "metadata": {
  "kernelspec": {
   "display_name": "Python 3 (ipykernel)",
   "language": "python",
   "name": "python3"
  },
  "language_info": {
   "codemirror_mode": {
    "name": "ipython",
    "version": 3
   },
   "file_extension": ".py",
   "mimetype": "text/x-python",
   "name": "python",
   "nbconvert_exporter": "python",
   "pygments_lexer": "ipython3",
   "version": "3.10.9"
  }
 },
 "nbformat": 4,
 "nbformat_minor": 4
}
