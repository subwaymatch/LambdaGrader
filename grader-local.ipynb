{
 "cells": [
  {
   "cell_type": "code",
   "execution_count": 4,
   "metadata": {},
   "outputs": [],
   "source": [
    "import glob\n",
    "import nbformat\n",
    "from nbconvert import HTMLExporter\n",
    "from nbconvert.preprocessors import ExecutePreprocessor, CellExecutionError\n",
    "import shutil\n",
    "import json\n",
    "import pandas as pd\n",
    "from pathlib import Path\n",
    "from datetime import datetime\n",
    "import hashlib\n",
    "import sys\n",
    "import platform\n",
    "from bs4 import BeautifulSoup\n",
    "import re\n",
    "import copy\n",
    "import os"
   ]
  },
  {
   "cell_type": "code",
   "execution_count": 2,
   "metadata": {},
   "outputs": [
    {
     "data": {
      "text/plain": [
       "['../../accy575-sp2023/05-yellow-cab-submissions/late-submissions\\\\heyangz2-yellow-cab-case.ipynb',\n",
       " '../../accy575-sp2023/05-yellow-cab-submissions/late-submissions\\\\meighan2-05-yellow-cab-casePM.ipynb']"
      ]
     },
     "execution_count": 2,
     "metadata": {},
     "output_type": "execute_result"
    }
   ],
   "source": [
    "fpaths = glob.glob('../../accy575-sp2023/05-yellow-cab-submissions/late-submissions/*.ipynb')\n",
    "fpaths = list(filter(lambda f: not f.endswith('-graded.ipynb'), fpaths))\n",
    "fpaths[:3]"
   ]
  },
  {
   "cell_type": "code",
   "execution_count": 3,
   "metadata": {},
   "outputs": [
    {
     "data": {
      "text/plain": [
       "['test-notebooks/PCard_Solution_20240129-test.ipynb']"
      ]
     },
     "execution_count": 3,
     "metadata": {},
     "output_type": "execute_result"
    }
   ],
   "source": [
    "fpaths = glob.glob('test-notebooks/PCard_Solution_20240129-test.ipynb')\n",
    "fpaths = list(filter(lambda f: not f.endswith('-graded.ipynb'), fpaths))\n",
    "fpaths[:3]"
   ]
  },
  {
   "cell_type": "code",
   "execution_count": 5,
   "metadata": {},
   "outputs": [
    {
     "data": {
      "text/plain": [
       "['../submissions/quiz-02\\\\abrahamjessica_52009_11606392_Jessica_Abraham_quiz_02_20240213_v1.ipynb',\n",
       " '../submissions/quiz-02\\\\afsaraliafnaan_9652_11606655_Copy_of_quiz_02_20240213_v1.ipynb',\n",
       " '../submissions/quiz-02\\\\agrawalmaanav_120374_11606342_quiz_02_20240213_v1.ipynb']"
      ]
     },
     "execution_count": 5,
     "metadata": {},
     "output_type": "execute_result"
    }
   ],
   "source": [
    "fpaths = glob.glob('../submissions/quiz-02/*.ipynb')\n",
    "fpaths = list(filter(lambda f: not f.endswith('-graded.ipynb'), fpaths))\n",
    "fpaths[:3]"
   ]
  },
  {
   "cell_type": "code",
   "execution_count": 6,
   "metadata": {},
   "outputs": [
    {
     "data": {
      "text/plain": [
       "['../submissions/accy575-sp2024/02-pcard/sections-EF-Zhu\\\\groupe1_32190_11672253_PCard_Starter (Group E1).ipynb',\n",
       " '../submissions/accy575-sp2024/02-pcard/sections-EF-Zhu\\\\groupe2_110585_11590838_PCard_Starter (1).ipynb',\n",
       " '../submissions/accy575-sp2024/02-pcard/sections-EF-Zhu\\\\groupe3_319481_11648044_PCard_Starter (GROUP E3).ipynb']"
      ]
     },
     "execution_count": 6,
     "metadata": {},
     "output_type": "execute_result"
    }
   ],
   "source": [
    "fpaths = glob.glob('../submissions/accy575-sp2024/02-pcard/sections-EF-Zhu/*.ipynb')\n",
    "fpaths = list(filter(lambda f: not f.endswith('-graded.ipynb'), fpaths))\n",
    "fpaths[:3]"
   ]
  },
  {
   "cell_type": "code",
   "execution_count": 6,
   "metadata": {},
   "outputs": [
    {
     "data": {
      "text/plain": [
       "['../../accy575-sp2023/05-yellow-cab-submissions/AB-lambdagrader\\\\zhangheyang_LATE_4775_8297034_heyangz2-yellow-cab-case.ipynb',\n",
       " '../../accy575-sp2023/05-yellow-cab-submissions/AB-lambdagrader\\\\meighanphilip_LATE_6126_8427062_05-yellow-cab-casePM.ipynb']"
      ]
     },
     "execution_count": 6,
     "metadata": {},
     "output_type": "execute_result"
    }
   ],
   "source": [
    "fpaths_1 = glob.glob('../../accy575-sp2023/05-yellow-cab-submissions/AB-lambdagrader/*heyang*.ipynb')\n",
    "fpaths_2 = glob.glob('../../accy575-sp2023/05-yellow-cab-submissions/AB-lambdagrader/meighan*.ipynb')\n",
    "fpaths = [*fpaths_1, *fpaths_2]\n",
    "fpaths = list(filter(lambda f: not f.endswith('-graded.ipynb'), fpaths))\n",
    "fpaths[:3]"
   ]
  },
  {
   "cell_type": "code",
   "execution_count": 7,
   "metadata": {},
   "outputs": [
    {
     "name": "stdout",
     "output_type": "stream",
     "text": [
      "=============================\n",
      "Grading ../submissions/accy575-sp2024/02-pcard/sections-EF-Zhu\\groupe1_32190_11672253_PCard_Starter (Group E1).ipynb\n",
      "[5.9%] Graded 1 out of 17 files\n",
      "=============================\n",
      "Grading ../submissions/accy575-sp2024/02-pcard/sections-EF-Zhu\\groupe2_110585_11590838_PCard_Starter (1).ipynb\n",
      "[11.8%] Graded 2 out of 17 files\n",
      "=============================\n",
      "Grading ../submissions/accy575-sp2024/02-pcard/sections-EF-Zhu\\groupe3_319481_11648044_PCard_Starter (GROUP E3).ipynb\n",
      "[17.6%] Graded 3 out of 17 files\n",
      "=============================\n",
      "Grading ../submissions/accy575-sp2024/02-pcard/sections-EF-Zhu\\groupe4_10913_11625167_PCard_Starter - Group 4.ipynb\n",
      "[23.5%] Graded 4 out of 17 files\n",
      "=============================\n",
      "Grading ../submissions/accy575-sp2024/02-pcard/sections-EF-Zhu\\groupe5sri_373229_11625335_final_PCard_Starter.ipynb\n",
      "[29.4%] Graded 5 out of 17 files\n",
      "=============================\n",
      "Grading ../submissions/accy575-sp2024/02-pcard/sections-EF-Zhu\\groupe5_356929_11625317_GroupE5.ipynb\n",
      "[35.3%] Graded 6 out of 17 files\n",
      "=============================\n",
      "Grading ../submissions/accy575-sp2024/02-pcard/sections-EF-Zhu\\groupe6_5847_11672326_PCard_E6.ipynb\n",
      "[41.2%] Graded 7 out of 17 files\n",
      "=============================\n",
      "Grading ../submissions/accy575-sp2024/02-pcard/sections-EF-Zhu\\groupe7_356602_11666595_PCard_Starter-1.ipynb\n",
      "[47.1%] Graded 8 out of 17 files\n",
      "=============================\n",
      "Grading ../submissions/accy575-sp2024/02-pcard/sections-EF-Zhu\\groupe8_6572_11586697_PCard_Starter.ipynb\n",
      "[52.9%] Graded 9 out of 17 files\n",
      "=============================\n",
      "Grading ../submissions/accy575-sp2024/02-pcard/sections-EF-Zhu\\groupf1_358748_11673216_PCard_PythonVenom-FINAL.ipynb\n",
      "[58.8%] Graded 10 out of 17 files\n",
      "=============================\n",
      "Grading ../submissions/accy575-sp2024/02-pcard/sections-EF-Zhu\\groupf2_34297_11629073_F2 PCard-Python.ipynb\n",
      "[64.7%] Graded 11 out of 17 files\n",
      "=============================\n",
      "Grading ../submissions/accy575-sp2024/02-pcard/sections-EF-Zhu\\groupf3_5654_11673065_PCard_Starter-3.ipynb\n",
      "[70.6%] Graded 12 out of 17 files\n",
      "=============================\n",
      "Grading ../submissions/accy575-sp2024/02-pcard/sections-EF-Zhu\\groupf4_356888_11573916_PCard_Starter (2)-1.ipynb\n",
      "[76.5%] Graded 13 out of 17 files\n",
      "=============================\n",
      "Grading ../submissions/accy575-sp2024/02-pcard/sections-EF-Zhu\\groupf5_354552_11628484_PCard_Group_F5.ipynb\n",
      "[82.4%] Graded 14 out of 17 files\n",
      "=============================\n",
      "Grading ../submissions/accy575-sp2024/02-pcard/sections-EF-Zhu\\groupf6_359402_11672901_PCard_Starter GroupF6.ipynb\n",
      "[88.2%] Graded 15 out of 17 files\n",
      "=============================\n",
      "Grading ../submissions/accy575-sp2024/02-pcard/sections-EF-Zhu\\groupf7_356008_11671731_PCard_Starter-2.ipynb\n",
      "[94.1%] Graded 16 out of 17 files\n",
      "=============================\n",
      "Grading ../submissions/accy575-sp2024/02-pcard/sections-EF-Zhu\\groupf8_8507_11627544_PCard_GroupEightF-2.ipynb\n",
      "[100.0%] Graded 17 out of 17 files\n"
     ]
    }
   ],
   "source": [
    "import lambdagrader\n",
    "\n",
    "graded_file_paths = fpaths\n",
    "graded_results = []\n",
    "file_index = 0\n",
    "\n",
    "for notebook_path in graded_file_paths:\n",
    "    try:\n",
    "        print('=============================')\n",
    "        nb = nbformat.read(notebook_path, as_version=4)\n",
    "        \n",
    "        test_cases_hash = lambdagrader.get_test_cases_hash(nb)\n",
    "        \n",
    "        lambdagrader.preprocess_test_case_cells(nb)\n",
    "        lambdagrader.add_grader_scripts(nb)\n",
    "\n",
    "        p = Path(notebook_path)\n",
    "        filestem = p.name\n",
    "        \n",
    "        print(f'Grading {notebook_path}')\n",
    "        \n",
    "        ep = ExecutePreprocessor(\n",
    "            timeout=1800,\n",
    "            kernel_name='python3',\n",
    "            allow_errors=True\n",
    "        )\n",
    "        ep.preprocess(nb)\n",
    "        \n",
    "        # save graded notebook\n",
    "        converted_notebook_path = notebook_path.replace('.ipynb', '-graded.ipynb')\n",
    "        with open(converted_notebook_path, mode='w', encoding='utf-8') as f:\n",
    "            nbformat.write(nb, f)\n",
    "        \n",
    "        # running the notebook will store the graded result to a JSON file\n",
    "        # rename graded result JSON file\n",
    "        graded_result_json_path = notebook_path.replace('.ipynb', '-result.json')\n",
    "        shutil.move('lambdagrader-result.json', graded_result_json_path)\n",
    "        \n",
    "        # read graded result to generate a summary\n",
    "        with open(graded_result_json_path, mode='r') as f:\n",
    "            graded_result = json.load(f)\n",
    "        \n",
    "        # add filename\n",
    "        # we add it here instead of trying to add it within the Jupyter notebook\n",
    "        # because it is tricky to grab the current file name inside a Jupyter kernel\n",
    "        graded_result['filename'] = Path(notebook_path).name\n",
    "        \n",
    "        # MD5 hash of the submitted Jupyter notebook file\n",
    "        # this can be used to detect duplicate submission to prevent unnecessary re-grading\n",
    "        with open(notebook_path, 'rb') as f:\n",
    "            graded_result['submission_notebook_hash'] = hashlib.md5(f.read()).hexdigest()\n",
    "        \n",
    "        # MD5 hash of test cases code\n",
    "        # this helps us to identify any potential cases\n",
    "        # where a learner has modified or deleted the test cases code cell\n",
    "        graded_result['test_cases_hash'] = test_cases_hash\n",
    "        \n",
    "        # store Python version and platform used to run the notebook\n",
    "        graded_result['grader_python_version'] = f\"{sys.version_info.major}.{sys.version_info.minor}.{sys.version_info.micro}\"\n",
    "        graded_result['grader_platform'] = platform.platform()\n",
    "\n",
    "        # save updated JSON to file\n",
    "        with open(graded_result_json_path, 'w') as f:\n",
    "            json.dump(graded_result, f, indent=2)\n",
    "            \n",
    "        # clean up notebook\n",
    "        lambdagrader.remove_grader_scripts(nb)\n",
    "        lambdagrader.add_graded_result(nb, graded_result)\n",
    "           \n",
    "        # extract user code to a Python file\n",
    "        extracted_user_code = lambdagrader.extract_user_code_from_notebook(nb)\n",
    "        extracted_code_path = notebook_path.replace('.ipynb', '_user_code.py')\n",
    "        \n",
    "        with open(extracted_code_path, \"w\", encoding=\"utf-8\") as f:\n",
    "            f.write(extracted_user_code)\n",
    "        \n",
    "        # store graded result to HTML\n",
    "        filestem = Path(notebook_path).name\n",
    "        graded_html_path = notebook_path.replace('.ipynb', '-graded.html')\n",
    "        lambdagrader.save_graded_notebook_to_html(\n",
    "            nb,\n",
    "            html_title=filestem,\n",
    "            output_path=graded_html_path,\n",
    "            graded_result=graded_result\n",
    "        )\n",
    "        \n",
    "        # LOCAL ENVIRONMENT ONLY\n",
    "        # the Lambda handler only processes one file instead of\n",
    "        # running a batch\n",
    "        # the code below generates a CSV to show results for multiple files\n",
    "        # get text summary of user's graded result\n",
    "        text_summary = lambdagrader.generate_text_summary(graded_result)\n",
    "        \n",
    "        result_summary = graded_result.copy()\n",
    "        result_summary['text_summary'] = text_summary\n",
    "        del result_summary['results']\n",
    "        graded_results.append(result_summary)\n",
    "        \n",
    "        print(f\"[{round((file_index + 1) / len(graded_file_paths) * 100, 1)}%] Graded {file_index + 1} out of {len(graded_file_paths)} files\")\n",
    "        file_index += 1\n",
    "    except Exception as e:\n",
    "        print(f'Error while grading {notebook_path}')\n",
    "        print('-----------------------------')\n",
    "        print(e)\n",
    "        \n",
    "df_summary = pd.DataFrame(graded_results)\n",
    "df_summary.sort_values(by=['learner_autograded_score', 'test_cases_hash'], inplace=True)\n",
    "\n",
    "df_summary.to_csv(\n",
    "    f\"graded_result_{datetime.now().strftime('%Y%m%d_%H%M%S')}.csv\",\n",
    "    index=None\n",
    ")"
   ]
  },
  {
   "cell_type": "code",
   "execution_count": null,
   "metadata": {},
   "outputs": [],
   "source": [
    "from copydetect import CopyDetector\n",
    "detector = CopyDetector(test_dirs=[\"../submissions/exercise-05\"], extensions=[\"py\"])\n",
    "# detector.run()\n",
    "# detector.generate_html_report()"
   ]
  },
  {
   "cell_type": "code",
   "execution_count": null,
   "metadata": {},
   "outputs": [],
   "source": [
    "# from lambdagrader import *\n",
    "\n",
    "notebook_path = '../notebooks\\\\case-study-04-rideshare-trips-SOLUTION.ipynb'\n",
    "nb = nbformat.read(notebook_path, as_version=4)\n",
    "\n",
    "tcs = lambdagrader.extract_test_cases_metadata_from_notebook(nb)\n",
    "\n",
    "s = 0\n",
    "\n",
    "for o in tcs:\n",
    "    s += o['points']\n",
    "    \n",
    "print(s)"
   ]
  }
 ],
 "metadata": {
  "kernelspec": {
   "display_name": "Python 3 (ipykernel)",
   "language": "python",
   "name": "python3"
  },
  "language_info": {
   "codemirror_mode": {
    "name": "ipython",
    "version": 3
   },
   "file_extension": ".py",
   "mimetype": "text/x-python",
   "name": "python",
   "nbconvert_exporter": "python",
   "pygments_lexer": "ipython3",
   "version": "3.12.1"
  }
 },
 "nbformat": 4,
 "nbformat_minor": 4
}
