{
 "cells": [
  {
   "cell_type": "code",
   "execution_count": 12,
   "metadata": {},
   "outputs": [],
   "source": [
    "import glob\n",
    "import nbformat\n",
    "from nbformat.v4 import new_code_cell\n",
    "from nbconvert import HTMLExporter\n",
    "from nbconvert.preprocessors import ExecutePreprocessor, CellExecutionError\n",
    "import re\n",
    "import textwrap"
   ]
  },
  {
   "cell_type": "code",
   "execution_count": 2,
   "metadata": {},
   "outputs": [
    {
     "data": {
      "text/plain": [
       "['test-notebooks/test-file-transformed.ipynb']"
      ]
     },
     "execution_count": 2,
     "metadata": {},
     "output_type": "execute_result"
    }
   ],
   "source": [
    "fpaths = glob.glob('test-notebooks/test-file-transformed.ipynb')\n",
    "fpaths"
   ]
  },
  {
   "cell_type": "code",
   "execution_count": null,
   "metadata": {},
   "outputs": [],
   "source": []
  },
  {
   "cell_type": "code",
   "execution_count": 14,
   "metadata": {},
   "outputs": [
    {
     "name": "stdout",
     "output_type": "stream",
     "text": [
      "Running test-notebooks/test-file.ipynb\n",
      "=============================\n",
      "{'test_case': 'tc-01', 'points': 5.0, 'grader_only': False}\n",
      "{'test_case': 'tc-02', 'points': 10.0, 'grader_only': False}\n",
      "{'test_case': 'tc-03', 'points': 10.0, 'grader_only': True}\n",
      "{'test_case': 'tc-04', 'points': 15.0, 'grader_only': False}\n",
      "{'test_case': 'tc-05', 'points': 5.0, 'grader_only': False}\n",
      "{'test_case': 'tc-06', 'points': 15.0, 'grader_only': False}\n"
     ]
    }
   ],
   "source": [
    "notebook_path = 'test-notebooks/test-file.ipynb'\n",
    "\n",
    "from lambdagrader import *\n",
    "\n",
    "def add_scripts_to_notebook(nb):\n",
    "    with open('jupyter-cell-scripts/prepend-to-start-of-notebook.py') as f:\n",
    "        prepend_script = f.read()\n",
    "        prepend_cell = new_code_cell(prepend_script)\n",
    "    \n",
    "    with open('jupyter-cell-scripts/append-to-end-of-notebook.py') as f:\n",
    "        append_script = f.read()\n",
    "        append_cell = new_code_cell(append_script)\n",
    "    \n",
    "    nb.cells.insert(0, prepend_cell)\n",
    "    nb.cells.append(append_cell)\n",
    "\n",
    "try:\n",
    "    print(f'Running {notebook_path}')\n",
    "    nb = nbformat.read(notebook_path, as_version=4)\n",
    "\n",
    "    print('=============================')\n",
    "    for cell in nb.cells:\n",
    "        test_case_metadata = extract_test_case_metadata(cell.source)\n",
    "        \n",
    "        if test_case_metadata:\n",
    "            print(test_case_metadata)\n",
    "            \n",
    "            cell.source = convert_to_grader_code(cell.source)\n",
    "            \n",
    "        converted_notebook_path = notebook_path.replace('.ipynb', '-graded.ipynb')\n",
    "    \n",
    "    add_scripts_to_notebook(nb)\n",
    "    \n",
    "    with open(converted_notebook_path, mode='w', encoding='utf-8') as f:\n",
    "        nbformat.write(nb, f)\n",
    "\n",
    "        # the in-memory format of a Jupyter notebook in nbconvert\n",
    "        # is a string\n",
    "        # the disk format may split the source into a list of strings\n",
    "\n",
    "except CellExecutionError as e:\n",
    "    print(f'CellExecutionError on {notebook_path}')\n",
    "    print('-----------------------------')\n",
    "    print(e)"
   ]
  },
  {
   "cell_type": "code",
   "execution_count": null,
   "metadata": {},
   "outputs": [],
   "source": [
    "fpath = 'test-notebooks/test-file-transformed.ipynb'\n",
    "\n",
    "try:\n",
    "    print(f'Running {fpath}')\n",
    "    nb = nbformat.read(fpath, as_version=4)\n",
    "\n",
    "    print('=============================')\n",
    "\n",
    "    for cell in nb.cells:\n",
    "        print(type(cell.source))\n",
    "\n",
    "        # the in-memory format of a Jupyter notebook in nbconvert\n",
    "        # is a string\n",
    "        # the disk format may split the source into a list of strings\n",
    "\n",
    "\n",
    "\n",
    "\n",
    "    ep = ExecutePreprocessor(\n",
    "        timeout=600,\n",
    "        kernel_name='python3',\n",
    "        allow_errors=True\n",
    "    )\n",
    "    ep.preprocess(nb)\n",
    "    print(f'Running {fpath} successful')\n",
    "except CellExecutionError as e:\n",
    "    print(f'CellExecutionError on {fpath}')\n",
    "    print('-----------------------------')\n",
    "    print(e)"
   ]
  }
 ],
 "metadata": {
  "kernelspec": {
   "display_name": "Python 3 (ipykernel)",
   "language": "python",
   "name": "python3"
  },
  "language_info": {
   "codemirror_mode": {
    "name": "ipython",
    "version": 3
   },
   "file_extension": ".py",
   "mimetype": "text/x-python",
   "name": "python",
   "nbconvert_exporter": "python",
   "pygments_lexer": "ipython3",
   "version": "3.9.7"
  }
 },
 "nbformat": 4,
 "nbformat_minor": 4
}
