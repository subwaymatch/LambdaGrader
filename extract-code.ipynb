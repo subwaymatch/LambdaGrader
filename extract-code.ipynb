{
 "cells": [
  {
   "cell_type": "code",
   "execution_count": 2,
   "id": "801229f7",
   "metadata": {},
   "outputs": [],
   "source": [
    "import glob\n",
    "import nbformat\n",
    "from nbconvert.preprocessors import ExecutePreprocessor, CellExecutionError\n",
    "import re"
   ]
  },
  {
   "cell_type": "code",
   "execution_count": 3,
   "id": "4902d0e7",
   "metadata": {},
   "outputs": [
    {
     "data": {
      "text/plain": [
       "['../submissions/exercise-09\\\\angeloalvino_10490_6421500_exercise_09_line_scatter_bar_plots-graded.ipynb',\n",
       " '../submissions/exercise-09\\\\angeloalvino_10490_6421500_exercise_09_line_scatter_bar_plots.ipynb',\n",
       " '../submissions/exercise-09\\\\badilloguadalupe_40209_6420131_exercise_09_line_scatter_bar_plots-graded.ipynb']"
      ]
     },
     "execution_count": 3,
     "metadata": {},
     "output_type": "execute_result"
    }
   ],
   "source": [
    "notebook_files = glob.glob('../submissions/exercise-09/*.ipynb')\n",
    "notebook_files[:3]"
   ]
  },
  {
   "cell_type": "code",
   "execution_count": 4,
   "id": "bd98a761-feba-401a-8738-722597f96222",
   "metadata": {},
   "outputs": [
    {
     "data": {
      "text/plain": [
       "74"
      ]
     },
     "execution_count": 4,
     "metadata": {},
     "output_type": "execute_result"
    }
   ],
   "source": [
    "len(notebook_files)"
   ]
  },
  {
   "cell_type": "code",
   "execution_count": null,
   "id": "30c2094d",
   "metadata": {},
   "outputs": [],
   "source": []
  },
  {
   "cell_type": "code",
   "execution_count": 5,
   "id": "cfba778c",
   "metadata": {},
   "outputs": [
    {
     "name": "stdout",
     "output_type": "stream",
     "text": [
      "Extracted user code from ../submissions/exercise-09\\angeloalvino_10490_6421500_exercise_09_line_scatter_bar_plots-graded.ipynb to ../submissions/exercise-09\\angeloalvino_10490_6421500_exercise_09_line_scatter_bar_plots-graded_user_code.py\n",
      "Extracted user code from ../submissions/exercise-09\\angeloalvino_10490_6421500_exercise_09_line_scatter_bar_plots.ipynb to ../submissions/exercise-09\\angeloalvino_10490_6421500_exercise_09_line_scatter_bar_plots_user_code.py\n",
      "Extracted user code from ../submissions/exercise-09\\badilloguadalupe_40209_6420131_exercise_09_line_scatter_bar_plots-graded.ipynb to ../submissions/exercise-09\\badilloguadalupe_40209_6420131_exercise_09_line_scatter_bar_plots-graded_user_code.py\n",
      "Extracted user code from ../submissions/exercise-09\\badilloguadalupe_40209_6420131_exercise_09_line_scatter_bar_plots.ipynb to ../submissions/exercise-09\\badilloguadalupe_40209_6420131_exercise_09_line_scatter_bar_plots_user_code.py\n",
      "Extracted user code from ../submissions/exercise-09\\bahenadenise_31344_6421370_exercise_09_line_scatter_bar_plots-graded.ipynb to ../submissions/exercise-09\\bahenadenise_31344_6421370_exercise_09_line_scatter_bar_plots-graded_user_code.py\n",
      "Extracted user code from ../submissions/exercise-09\\bahenadenise_31344_6421370_exercise_09_line_scatter_bar_plots.ipynb to ../submissions/exercise-09\\bahenadenise_31344_6421370_exercise_09_line_scatter_bar_plots_user_code.py\n",
      "Extracted user code from ../submissions/exercise-09\\battaarnav_7441_6429659_exercise_09_line_scatter_bar_plots-graded.ipynb to ../submissions/exercise-09\\battaarnav_7441_6429659_exercise_09_line_scatter_bar_plots-graded_user_code.py\n",
      "Extracted user code from ../submissions/exercise-09\\battaarnav_7441_6429659_exercise_09_line_scatter_bar_plots.ipynb to ../submissions/exercise-09\\battaarnav_7441_6429659_exercise_09_line_scatter_bar_plots_user_code.py\n",
      "Extracted user code from ../submissions/exercise-09\\fukagairikuto_LATE_337180_6440905_exercise_09_line_scatter_bar_plots-graded.ipynb to ../submissions/exercise-09\\fukagairikuto_LATE_337180_6440905_exercise_09_line_scatter_bar_plots-graded_user_code.py\n",
      "Extracted user code from ../submissions/exercise-09\\fukagairikuto_LATE_337180_6440905_exercise_09_line_scatter_bar_plots.ipynb to ../submissions/exercise-09\\fukagairikuto_LATE_337180_6440905_exercise_09_line_scatter_bar_plots_user_code.py\n",
      "Extracted user code from ../submissions/exercise-09\\gonzalezjason_49565_6418586_Copy_of_exercise_09_line_scatter_bar_plots-graded.ipynb to ../submissions/exercise-09\\gonzalezjason_49565_6418586_Copy_of_exercise_09_line_scatter_bar_plots-graded_user_code.py\n",
      "Extracted user code from ../submissions/exercise-09\\gonzalezjason_49565_6418586_Copy_of_exercise_09_line_scatter_bar_plots.ipynb to ../submissions/exercise-09\\gonzalezjason_49565_6418586_Copy_of_exercise_09_line_scatter_bar_plots_user_code.py\n",
      "Extracted user code from ../submissions/exercise-09\\gutierrezxavier_107642_6428775_Xavier_Gutierrez_exercise_09_line_scatter_bar_plots-graded.ipynb to ../submissions/exercise-09\\gutierrezxavier_107642_6428775_Xavier_Gutierrez_exercise_09_line_scatter_bar_plots-graded_user_code.py\n",
      "Extracted user code from ../submissions/exercise-09\\gutierrezxavier_107642_6428775_Xavier_Gutierrez_exercise_09_line_scatter_bar_plots.ipynb to ../submissions/exercise-09\\gutierrezxavier_107642_6428775_Xavier_Gutierrez_exercise_09_line_scatter_bar_plots_user_code.py\n",
      "Extracted user code from ../submissions/exercise-09\\haaseclayton_28317_6429101_Copy_of_exercise_09_line_scatter_bar_plots-graded.ipynb to ../submissions/exercise-09\\haaseclayton_28317_6429101_Copy_of_exercise_09_line_scatter_bar_plots-graded_user_code.py\n",
      "Extracted user code from ../submissions/exercise-09\\haaseclayton_28317_6429101_Copy_of_exercise_09_line_scatter_bar_plots.ipynb to ../submissions/exercise-09\\haaseclayton_28317_6429101_Copy_of_exercise_09_line_scatter_bar_plots_user_code.py\n",
      "Extracted user code from ../submissions/exercise-09\\hollenbergwesley_106933_6429303_exercise_09_line_scatter_bar_plots-graded.ipynb to ../submissions/exercise-09\\hollenbergwesley_106933_6429303_exercise_09_line_scatter_bar_plots-graded_user_code.py\n",
      "Extracted user code from ../submissions/exercise-09\\hollenbergwesley_106933_6429303_exercise_09_line_scatter_bar_plots.ipynb to ../submissions/exercise-09\\hollenbergwesley_106933_6429303_exercise_09_line_scatter_bar_plots_user_code.py\n",
      "Extracted user code from ../submissions/exercise-09\\huangtianyi_123943_6417836_exercise_09_line_scatter_bar_plots-graded.ipynb to ../submissions/exercise-09\\huangtianyi_123943_6417836_exercise_09_line_scatter_bar_plots-graded_user_code.py\n",
      "Extracted user code from ../submissions/exercise-09\\huangtianyi_123943_6417836_exercise_09_line_scatter_bar_plots.ipynb to ../submissions/exercise-09\\huangtianyi_123943_6417836_exercise_09_line_scatter_bar_plots_user_code.py\n",
      "Extracted user code from ../submissions/exercise-09\\isaromero_89984_6422991_exercise_09_line_scatter_bar_plots-graded.ipynb to ../submissions/exercise-09\\isaromero_89984_6422991_exercise_09_line_scatter_bar_plots-graded_user_code.py\n",
      "Extracted user code from ../submissions/exercise-09\\isaromero_89984_6422991_exercise_09_line_scatter_bar_plots.ipynb to ../submissions/exercise-09\\isaromero_89984_6422991_exercise_09_line_scatter_bar_plots_user_code.py\n",
      "Extracted user code from ../submissions/exercise-09\\khandelwalnupur_78587_6435698_exercise_09_line_scatter_bar_plots-graded.ipynb to ../submissions/exercise-09\\khandelwalnupur_78587_6435698_exercise_09_line_scatter_bar_plots-graded_user_code.py\n",
      "Extracted user code from ../submissions/exercise-09\\khandelwalnupur_78587_6435698_exercise_09_line_scatter_bar_plots.ipynb to ../submissions/exercise-09\\khandelwalnupur_78587_6435698_exercise_09_line_scatter_bar_plots_user_code.py\n",
      "Extracted user code from ../submissions/exercise-09\\koziolmike_320890_6424330_exercise_09_line_scatter_bar_plots-graded.ipynb to ../submissions/exercise-09\\koziolmike_320890_6424330_exercise_09_line_scatter_bar_plots-graded_user_code.py\n",
      "Extracted user code from ../submissions/exercise-09\\koziolmike_320890_6424330_exercise_09_line_scatter_bar_plots.ipynb to ../submissions/exercise-09\\koziolmike_320890_6424330_exercise_09_line_scatter_bar_plots_user_code.py\n",
      "Extracted user code from ../submissions/exercise-09\\kumarakash_223765_6425742_Copy_of_exercise_09_line_scatter_bar_plots-graded.ipynb to ../submissions/exercise-09\\kumarakash_223765_6425742_Copy_of_exercise_09_line_scatter_bar_plots-graded_user_code.py\n",
      "Extracted user code from ../submissions/exercise-09\\kumarakash_223765_6425742_Copy_of_exercise_09_line_scatter_bar_plots.ipynb to ../submissions/exercise-09\\kumarakash_223765_6425742_Copy_of_exercise_09_line_scatter_bar_plots_user_code.py\n",
      "Extracted user code from ../submissions/exercise-09\\kusnomarc_68107_6423981_exercise_09_line_scatter_bar_plots-graded.ipynb to ../submissions/exercise-09\\kusnomarc_68107_6423981_exercise_09_line_scatter_bar_plots-graded_user_code.py\n",
      "Extracted user code from ../submissions/exercise-09\\kusnomarc_68107_6423981_exercise_09_line_scatter_bar_plots.ipynb to ../submissions/exercise-09\\kusnomarc_68107_6423981_exercise_09_line_scatter_bar_plots_user_code.py\n",
      "Extracted user code from ../submissions/exercise-09\\laffertybrooke_22469_6428200_exercise_09_line_scatter_bar_plots-graded.ipynb to ../submissions/exercise-09\\laffertybrooke_22469_6428200_exercise_09_line_scatter_bar_plots-graded_user_code.py\n",
      "Extracted user code from ../submissions/exercise-09\\laffertybrooke_22469_6428200_exercise_09_line_scatter_bar_plots.ipynb to ../submissions/exercise-09\\laffertybrooke_22469_6428200_exercise_09_line_scatter_bar_plots_user_code.py\n",
      "Extracted user code from ../submissions/exercise-09\\liuhongyu_117737_6432975_exercise_09_line_scatter_bar_plots-graded.ipynb to ../submissions/exercise-09\\liuhongyu_117737_6432975_exercise_09_line_scatter_bar_plots-graded_user_code.py\n",
      "Extracted user code from ../submissions/exercise-09\\liuhongyu_117737_6432975_exercise_09_line_scatter_bar_plots.ipynb to ../submissions/exercise-09\\liuhongyu_117737_6432975_exercise_09_line_scatter_bar_plots_user_code.py\n",
      "Extracted user code from ../submissions/exercise-09\\lodennis_335767_6418715_Copy_of_exercise_09_line_scatter_bar_plots-graded.ipynb to ../submissions/exercise-09\\lodennis_335767_6418715_Copy_of_exercise_09_line_scatter_bar_plots-graded_user_code.py\n",
      "Extracted user code from ../submissions/exercise-09\\lodennis_335767_6418715_Copy_of_exercise_09_line_scatter_bar_plots.ipynb to ../submissions/exercise-09\\lodennis_335767_6418715_Copy_of_exercise_09_line_scatter_bar_plots_user_code.py\n",
      "Extracted user code from ../submissions/exercise-09\\makmatt_76304_6423730_Copy_of_exercise_09_line_scatter_bar_plots-graded.ipynb to ../submissions/exercise-09\\makmatt_76304_6423730_Copy_of_exercise_09_line_scatter_bar_plots-graded_user_code.py\n",
      "Extracted user code from ../submissions/exercise-09\\makmatt_76304_6423730_Copy_of_exercise_09_line_scatter_bar_plots.ipynb to ../submissions/exercise-09\\makmatt_76304_6423730_Copy_of_exercise_09_line_scatter_bar_plots_user_code.py\n",
      "Extracted user code from ../submissions/exercise-09\\manueldagracasaviosergio_338779_6418376_exercise_09_line_scatter_bar_plots-graded.ipynb to ../submissions/exercise-09\\manueldagracasaviosergio_338779_6418376_exercise_09_line_scatter_bar_plots-graded_user_code.py\n",
      "Extracted user code from ../submissions/exercise-09\\manueldagracasaviosergio_338779_6418376_exercise_09_line_scatter_bar_plots.ipynb to ../submissions/exercise-09\\manueldagracasaviosergio_338779_6418376_exercise_09_line_scatter_bar_plots_user_code.py\n",
      "Extracted user code from ../submissions/exercise-09\\monitajob_54797_6420521_exercise_09_line_scatter_bar_plots-graded.ipynb to ../submissions/exercise-09\\monitajob_54797_6420521_exercise_09_line_scatter_bar_plots-graded_user_code.py\n",
      "Extracted user code from ../submissions/exercise-09\\monitajob_54797_6420521_exercise_09_line_scatter_bar_plots.ipynb to ../submissions/exercise-09\\monitajob_54797_6420521_exercise_09_line_scatter_bar_plots_user_code.py\n",
      "Extracted user code from ../submissions/exercise-09\\moykayla_62911_6421051_Copy_of_exercise_09_line_scatter_bar_plots-graded.ipynb to ../submissions/exercise-09\\moykayla_62911_6421051_Copy_of_exercise_09_line_scatter_bar_plots-graded_user_code.py\n",
      "Extracted user code from ../submissions/exercise-09\\moykayla_62911_6421051_Copy_of_exercise_09_line_scatter_bar_plots.ipynb to ../submissions/exercise-09\\moykayla_62911_6421051_Copy_of_exercise_09_line_scatter_bar_plots_user_code.py\n",
      "Extracted user code from ../submissions/exercise-09\\nallacheruvusailaja_123155_6418489_Copy_of_exercise_09_line_scatter_bar_plots-graded.ipynb to ../submissions/exercise-09\\nallacheruvusailaja_123155_6418489_Copy_of_exercise_09_line_scatter_bar_plots-graded_user_code.py\n",
      "Extracted user code from ../submissions/exercise-09\\nallacheruvusailaja_123155_6418489_Copy_of_exercise_09_line_scatter_bar_plots.ipynb to ../submissions/exercise-09\\nallacheruvusailaja_123155_6418489_Copy_of_exercise_09_line_scatter_bar_plots_user_code.py\n",
      "Extracted user code from ../submissions/exercise-09\\nathellaalekhya_16812_6417625_exercise_09_line_scatter_bar_plots-graded.ipynb to ../submissions/exercise-09\\nathellaalekhya_16812_6417625_exercise_09_line_scatter_bar_plots-graded_user_code.py\n",
      "Extracted user code from ../submissions/exercise-09\\nathellaalekhya_16812_6417625_exercise_09_line_scatter_bar_plots.ipynb to ../submissions/exercise-09\\nathellaalekhya_16812_6417625_exercise_09_line_scatter_bar_plots_user_code.py\n",
      "Extracted user code from ../submissions/exercise-09\\reedycameron_28968_6428928_exercise_09_line_scatter_bar_plots-graded.ipynb to ../submissions/exercise-09\\reedycameron_28968_6428928_exercise_09_line_scatter_bar_plots-graded_user_code.py\n",
      "Extracted user code from ../submissions/exercise-09\\reedycameron_28968_6428928_exercise_09_line_scatter_bar_plots.ipynb to ../submissions/exercise-09\\reedycameron_28968_6428928_exercise_09_line_scatter_bar_plots_user_code.py\n",
      "Extracted user code from ../submissions/exercise-09\\rochadiego_32926_6432069_exercise_09_line_scatter_bar_plots-graded.ipynb to ../submissions/exercise-09\\rochadiego_32926_6432069_exercise_09_line_scatter_bar_plots-graded_user_code.py\n",
      "Extracted user code from ../submissions/exercise-09\\rochadiego_32926_6432069_exercise_09_line_scatter_bar_plots.ipynb to ../submissions/exercise-09\\rochadiego_32926_6432069_exercise_09_line_scatter_bar_plots_user_code.py\n",
      "Extracted user code from ../submissions/exercise-09\\sahuarjun_324841_6418772_exercise_09_line_scatter_bar_plots-graded.ipynb to ../submissions/exercise-09\\sahuarjun_324841_6418772_exercise_09_line_scatter_bar_plots-graded_user_code.py\n",
      "Extracted user code from ../submissions/exercise-09\\sahuarjun_324841_6418772_exercise_09_line_scatter_bar_plots.ipynb to ../submissions/exercise-09\\sahuarjun_324841_6418772_exercise_09_line_scatter_bar_plots_user_code.py\n",
      "Extracted user code from ../submissions/exercise-09\\stirlingrobbie_86647_6418781_exercise_09_line_scatter_bar_plots-graded.ipynb to ../submissions/exercise-09\\stirlingrobbie_86647_6418781_exercise_09_line_scatter_bar_plots-graded_user_code.py\n",
      "Extracted user code from ../submissions/exercise-09\\stirlingrobbie_86647_6418781_exercise_09_line_scatter_bar_plots.ipynb to ../submissions/exercise-09\\stirlingrobbie_86647_6418781_exercise_09_line_scatter_bar_plots_user_code.py\n",
      "Extracted user code from ../submissions/exercise-09\\tualanathan_8714_6430841_Copy_of_exercise_09_line_scatter_bar_plots-graded.ipynb to ../submissions/exercise-09\\tualanathan_8714_6430841_Copy_of_exercise_09_line_scatter_bar_plots-graded_user_code.py\n",
      "Extracted user code from ../submissions/exercise-09\\tualanathan_8714_6430841_Copy_of_exercise_09_line_scatter_bar_plots.ipynb to ../submissions/exercise-09\\tualanathan_8714_6430841_Copy_of_exercise_09_line_scatter_bar_plots_user_code.py\n",
      "Extracted user code from ../submissions/exercise-09\\weeethan_LATE_37165_6445768_Copy_of_exercise_09_line_scatter_bar_plots-1-graded.ipynb to ../submissions/exercise-09\\weeethan_LATE_37165_6445768_Copy_of_exercise_09_line_scatter_bar_plots-1-graded_user_code.py\n",
      "Extracted user code from ../submissions/exercise-09\\weeethan_LATE_37165_6445768_Copy_of_exercise_09_line_scatter_bar_plots-1.ipynb to ../submissions/exercise-09\\weeethan_LATE_37165_6445768_Copy_of_exercise_09_line_scatter_bar_plots-1_user_code.py\n",
      "Extracted user code from ../submissions/exercise-09\\wongmichael_LATE_8203_6446371_Copy_of_exercise_09_line_scatter_bar_plots-graded.ipynb to ../submissions/exercise-09\\wongmichael_LATE_8203_6446371_Copy_of_exercise_09_line_scatter_bar_plots-graded_user_code.py\n",
      "Extracted user code from ../submissions/exercise-09\\wongmichael_LATE_8203_6446371_Copy_of_exercise_09_line_scatter_bar_plots.ipynb to ../submissions/exercise-09\\wongmichael_LATE_8203_6446371_Copy_of_exercise_09_line_scatter_bar_plots_user_code.py\n",
      "Extracted user code from ../submissions/exercise-09\\xamonhtrybrandon_24990_6418450_exercise_09_line_scatter_bar_plots-graded.ipynb to ../submissions/exercise-09\\xamonhtrybrandon_24990_6418450_exercise_09_line_scatter_bar_plots-graded_user_code.py\n",
      "Extracted user code from ../submissions/exercise-09\\xamonhtrybrandon_24990_6418450_exercise_09_line_scatter_bar_plots.ipynb to ../submissions/exercise-09\\xamonhtrybrandon_24990_6418450_exercise_09_line_scatter_bar_plots_user_code.py\n",
      "Extracted user code from ../submissions/exercise-09\\yuanjasmine_57331_6434818_exercise_09_line_scatter_bar_plots-graded.ipynb to ../submissions/exercise-09\\yuanjasmine_57331_6434818_exercise_09_line_scatter_bar_plots-graded_user_code.py\n",
      "Extracted user code from ../submissions/exercise-09\\yuanjasmine_57331_6434818_exercise_09_line_scatter_bar_plots.ipynb to ../submissions/exercise-09\\yuanjasmine_57331_6434818_exercise_09_line_scatter_bar_plots_user_code.py\n",
      "Extracted user code from ../submissions/exercise-09\\yuenkelly_60086_6432766_exercise_09_line_scatter_bar_plots-graded.ipynb to ../submissions/exercise-09\\yuenkelly_60086_6432766_exercise_09_line_scatter_bar_plots-graded_user_code.py\n",
      "Extracted user code from ../submissions/exercise-09\\yuenkelly_60086_6432766_exercise_09_line_scatter_bar_plots.ipynb to ../submissions/exercise-09\\yuenkelly_60086_6432766_exercise_09_line_scatter_bar_plots_user_code.py\n",
      "Extracted user code from ../submissions/exercise-09\\yuzijun_112883_6418404_“exercise_09_line_scatter_bar_plots_ipynb”的副本-graded.ipynb to ../submissions/exercise-09\\yuzijun_112883_6418404_“exercise_09_line_scatter_bar_plots_ipynb”的副本-graded_user_code.py\n",
      "Extracted user code from ../submissions/exercise-09\\yuzijun_112883_6418404_“exercise_09_line_scatter_bar_plots_ipynb”的副本.ipynb to ../submissions/exercise-09\\yuzijun_112883_6418404_“exercise_09_line_scatter_bar_plots_ipynb”的副本_user_code.py\n",
      "Extracted user code from ../submissions/exercise-09\\zentenoalejandro_21888_6428469_complete_Zenteno_exercise_09_line_scatter_bar_plots-graded.ipynb to ../submissions/exercise-09\\zentenoalejandro_21888_6428469_complete_Zenteno_exercise_09_line_scatter_bar_plots-graded_user_code.py\n",
      "Extracted user code from ../submissions/exercise-09\\zentenoalejandro_21888_6428469_complete_Zenteno_exercise_09_line_scatter_bar_plots.ipynb to ../submissions/exercise-09\\zentenoalejandro_21888_6428469_complete_Zenteno_exercise_09_line_scatter_bar_plots_user_code.py\n",
      "Extracted user code from ../submissions/exercise-09\\zhangbrianna_7480_6421911_exercise_09_line_scatter_bar_plots-graded.ipynb to ../submissions/exercise-09\\zhangbrianna_7480_6421911_exercise_09_line_scatter_bar_plots-graded_user_code.py\n",
      "Extracted user code from ../submissions/exercise-09\\zhangbrianna_7480_6421911_exercise_09_line_scatter_bar_plots.ipynb to ../submissions/exercise-09\\zhangbrianna_7480_6421911_exercise_09_line_scatter_bar_plots_user_code.py\n"
     ]
    }
   ],
   "source": [
    "from lambdagrader import *\n",
    "\n",
    "for notebook_path in notebook_files:\n",
    "    extracted_user_code = extract_user_code_from_notebook(notebook_path)\n",
    "\n",
    "    extracted_code_path = notebook_path.replace('.ipynb', '_user_code.py')\n",
    "    \n",
    "    print(f'Extracted user code from {notebook_path} to {extracted_code_path}')\n",
    "\n",
    "    with open(extracted_code_path, \"w\") as text_file:\n",
    "        text_file.write(extracted_user_code)"
   ]
  }
 ],
 "metadata": {
  "kernelspec": {
   "display_name": "Python 3 (ipykernel)",
   "language": "python",
   "name": "python3"
  },
  "language_info": {
   "codemirror_mode": {
    "name": "ipython",
    "version": 3
   },
   "file_extension": ".py",
   "mimetype": "text/x-python",
   "name": "python",
   "nbconvert_exporter": "python",
   "pygments_lexer": "ipython3",
   "version": "3.8.13"
  }
 },
 "nbformat": 4,
 "nbformat_minor": 5
}
