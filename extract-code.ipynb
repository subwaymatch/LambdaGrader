{
 "cells": [
  {
   "cell_type": "code",
   "execution_count": 1,
   "id": "801229f7",
   "metadata": {},
   "outputs": [],
   "source": [
    "import glob\n",
    "import nbformat\n",
    "from nbconvert.preprocessors import ExecutePreprocessor, CellExecutionError\n",
    "import re"
   ]
  },
  {
   "cell_type": "code",
   "execution_count": 2,
   "id": "4902d0e7",
   "metadata": {},
   "outputs": [
    {
     "data": {
      "text/plain": [
       "['case-study-01\\\\angeloalvino_10490_5901677_case_study_01_rideshare_vehicles.ipynb',\n",
       " 'case-study-01\\\\badilloguadalupe_40209_5916501_case_study_01_rideshare_vehicles.ipynb',\n",
       " 'case-study-01\\\\bahenadenise_31344_5882628_case_study_01_rideshare_vehicles.ipynb']"
      ]
     },
     "execution_count": 2,
     "metadata": {},
     "output_type": "execute_result"
    }
   ],
   "source": [
    "notebook_files = glob.glob('case-study-01/*.ipynb')\n",
    "notebook_files[:3]"
   ]
  },
  {
   "cell_type": "code",
   "execution_count": null,
   "id": "30c2094d",
   "metadata": {},
   "outputs": [],
   "source": []
  },
  {
   "cell_type": "code",
   "execution_count": 3,
   "id": "cfba778c",
   "metadata": {},
   "outputs": [
    {
     "name": "stdout",
     "output_type": "stream",
     "text": [
      "import pandas as pd\n",
      "\n",
      "import numpy as np\n",
      "\n",
      "num_rows, num_cols = df_v.shape\n",
      "\n",
      "df_v.info()\n",
      "\n",
      "total_num_trips = df_v[\"NUMBER_OF_TRIPS\"].sum()\n",
      "\n",
      "avg_num_trips = df_v[\"NUMBER_OF_TRIPS\"].mean()\n",
      "\n",
      "df_lincoln = df_v[df_v[\"MAKE\"] == \"Lincoln\"]\n",
      "\n",
      "avg_num_trips_lincoln = df_lincoln[\"NUMBER_OF_TRIPS\"].mean()\n",
      "\n",
      "df_red_tesla = df_v[(df_v[\"MAKE\"] == \"Tesla\") & (df_v[\"COLOR\"] == \"Red\")]\n",
      "\n",
      "df_porsche_hummer = df_v[(df_v[\"MAKE\"] == \"Porsche\") | (df_v[\"MAKE\"] == \"Hummer\")]\n",
      "\n",
      "max_num_trips = df_v[\"NUMBER_OF_TRIPS\"].max()\n",
      "\n",
      "df_black_mkz = df_v[(df_v[\"MODEL\"] == \"Mkz\") & (df_v[\"COLOR\"] == \"Black\") & (df_v[\"NUMBER_OF_TRIPS\"] >= 999)]\n",
      "\n",
      "df_latest_models = df_v[df_v[\"MODEL_YEAR\"] >= 2022]\n",
      "\n",
      "avg_num_trips_single_tnps = df_v[df_v[\"MULTIPLE_TNPS\"] == False][\"NUMBER_OF_TRIPS\"].mean()\n",
      "avg_num_trips_multiple_tnps = df_v[df_v[\"MULTIPLE_TNPS\"] == True][\"NUMBER_OF_TRIPS\"].mean()\n",
      "\n",
      "df_by_make = df_v.groupby('MAKE', as_index=False).agg({\n",
      "    'NUMBER_OF_TRIPS': ['count', 'sum', 'mean']\n",
      "})\n",
      "df_by_make.columns = ['MAKE', 'NUM_REG', 'TOTAL_NUM_TRIPS', 'AVG_NUM_TRIPS']\n",
      "df_by_make.head(6)\n",
      "\n",
      "df_by_make_popularity = df_by_make.sort_values(by=\"NUM_REG\", ascending=False)\n",
      "\n",
      "df_by_make_trips = df_by_make.sort_values(by=\"AVG_NUM_TRIPS\", ascending=False)\n",
      "df_by_make_trips.drop([\"NUM_REG\", \"TOTAL_NUM_TRIPS\"], axis=1, inplace=True)\n",
      "\n",
      "avg_num_trips_toyota = df_by_make_trips[df_by_make_trips[\"MAKE\"] == \"Toyota\"][\"AVG_NUM_TRIPS\"].mean()\n",
      "avg_num_trips_nissan = df_by_make_trips[df_by_make_trips[\"MAKE\"] == \"Nissan\"][\"AVG_NUM_TRIPS\"].mean()\n",
      "avg_num_trips_honda = df_by_make_trips[df_by_make_trips[\"MAKE\"] == \"Honda\"][\"AVG_NUM_TRIPS\"].mean()\n",
      "\n",
      "df_by_model = df_v.groupby(['MAKE', 'MODEL'], as_index=False).agg({\n",
      "    \"NUMBER_OF_TRIPS\": ['count', 'sum', 'mean']\n",
      "})\n",
      "df_by_model.columns = [\"MAKE\", \"MODEL\", \"NUM_REG\", \"TOTAL_NUM_TRIPS\", \"AVG_NUM_TRIPS\"]\n",
      "df_by_model.head(6)\n",
      "\n",
      "df_by_model.rename(columns={\n",
      "    'MAKE': 'manufacturer',\n",
      "    'MODEL': 'model',\n",
      "    'NUM_REG': 'registrations',\n",
      "    'AVG_NUM_TRIPS': 'avg_trips'\n",
      "}, inplace=True)\n",
      "\n",
      "df_by_model.drop(columns=\"TOTAL_NUM_TRIPS\", inplace=True)\n",
      "\n",
      "df_by_model.sort_values(by=\"registrations\", ascending=False, inplace=True)\n",
      "\n",
      "num_lincoln_ls_registrations = df_by_model[(df_by_model[\"manufacturer\"] == \"Lincoln\") & (df_by_model[\"model\"] == \"Ls\")][\"registrations\"].iloc[0]\n",
      "\n",
      "num_ford_500_registrations = df_by_model[(df_by_model[\"manufacturer\"] == \"Ford\") & (df_by_model[\"model\"] == \"500\")][\"registrations\"].iloc[0]\n",
      "\n",
      "df_by_color = df_v.groupby(['MAKE', 'MODEL', 'COLOR'], as_index=False).agg({\n",
      "    'REPORTED_MONTH': 'count'\n",
      "})\n",
      "df_by_color.head(6)\n",
      "\n",
      "df_by_color.rename(columns={\n",
      "    'MAKE': 'manufacturer',\n",
      "    'MODEL': 'model',\n",
      "    'COLOR': 'color',\n",
      "    'REPORTED_MONTH': 'registrations'\n",
      "}, inplace=True)\n",
      "\n",
      "df_by_color.sort_values(by=\"registrations\", ascending=False, inplace=True)\n",
      "\n",
      "\n"
     ]
    }
   ],
   "source": [
    "notebook_path = notebook_files[0]\n",
    "\n",
    "from lambdagrader import *\n",
    "full_code = extract_user_code_from_notebook(notebook_path)\n",
    "\n",
    "print(full_code)"
   ]
  }
 ],
 "metadata": {
  "kernelspec": {
   "display_name": "Python 3 (ipykernel)",
   "language": "python",
   "name": "python3"
  },
  "language_info": {
   "codemirror_mode": {
    "name": "ipython",
    "version": 3
   },
   "file_extension": ".py",
   "mimetype": "text/x-python",
   "name": "python",
   "nbconvert_exporter": "python",
   "pygments_lexer": "ipython3",
   "version": "3.8.13"
  }
 },
 "nbformat": 4,
 "nbformat_minor": 5
}
