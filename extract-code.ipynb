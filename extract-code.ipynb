{
 "cells": [
  {
   "cell_type": "code",
   "execution_count": 2,
   "id": "801229f7",
   "metadata": {},
   "outputs": [],
   "source": [
    "import glob\n",
    "import nbformat\n",
    "from nbconvert.preprocessors import ExecutePreprocessor, CellExecutionError\n",
    "import re"
   ]
  },
  {
   "cell_type": "code",
   "execution_count": 9,
   "id": "4902d0e7",
   "metadata": {},
   "outputs": [
    {
     "data": {
      "text/plain": [
       "['../submissions/exercise-05\\\\angeloalvino_10490_5674016_exercise_05_pandas_filtering_sorting.ipynb',\n",
       " '../submissions/exercise-05\\\\badilloguadalupe_40209_5668105_exercise_05_pandas_filtering_sorting.ipynb',\n",
       " '../submissions/exercise-05\\\\bahenadenise_31344_5656475_exercise_05_pandas_filtering_sorting.ipynb']"
      ]
     },
     "execution_count": 9,
     "metadata": {},
     "output_type": "execute_result"
    }
   ],
   "source": [
    "notebook_files = glob.glob('../submissions/exercise-05/*.ipynb')\n",
    "notebook_files[:3]"
   ]
  },
  {
   "cell_type": "code",
   "execution_count": 7,
   "id": "bd98a761-feba-401a-8738-722597f96222",
   "metadata": {},
   "outputs": [
    {
     "data": {
      "text/plain": [
       "42"
      ]
     },
     "execution_count": 7,
     "metadata": {},
     "output_type": "execute_result"
    }
   ],
   "source": [
    "len(notebook_files)"
   ]
  },
  {
   "cell_type": "code",
   "execution_count": null,
   "id": "30c2094d",
   "metadata": {},
   "outputs": [],
   "source": []
  },
  {
   "cell_type": "code",
   "execution_count": 10,
   "id": "cfba778c",
   "metadata": {},
   "outputs": [
    {
     "name": "stdout",
     "output_type": "stream",
     "text": [
      "Extracted user code from ../submissions/exercise-05\\angeloalvino_10490_5674016_exercise_05_pandas_filtering_sorting.ipynb to ../submissions/exercise-05\\angeloalvino_10490_5674016_exercise_05_pandas_filtering_sorting_user_code.py\n",
      "Extracted user code from ../submissions/exercise-05\\badilloguadalupe_40209_5668105_exercise_05_pandas_filtering_sorting.ipynb to ../submissions/exercise-05\\badilloguadalupe_40209_5668105_exercise_05_pandas_filtering_sorting_user_code.py\n",
      "Extracted user code from ../submissions/exercise-05\\bahenadenise_31344_5656475_exercise_05_pandas_filtering_sorting.ipynb to ../submissions/exercise-05\\bahenadenise_31344_5656475_exercise_05_pandas_filtering_sorting_user_code.py\n",
      "Extracted user code from ../submissions/exercise-05\\battaarnav_7441_5615114_exercise_05_pandas_filtering_sorting.ipynb to ../submissions/exercise-05\\battaarnav_7441_5615114_exercise_05_pandas_filtering_sorting_user_code.py\n",
      "Extracted user code from ../submissions/exercise-05\\exercise-05-pandas-filtering-sorting-SOLUTION.ipynb to ../submissions/exercise-05\\exercise-05-pandas-filtering-sorting-SOLUTION_user_code.py\n",
      "Extracted user code from ../submissions/exercise-05\\fukagairikuto_337180_5585167_exercise_05_pandas_filtering_sorting.ipynb to ../submissions/exercise-05\\fukagairikuto_337180_5585167_exercise_05_pandas_filtering_sorting_user_code.py\n",
      "Extracted user code from ../submissions/exercise-05\\gonzalezjason_LATE_49565_5902098_Copy_of_exercise_05_pandas_filtering_sorting.ipynb to ../submissions/exercise-05\\gonzalezjason_LATE_49565_5902098_Copy_of_exercise_05_pandas_filtering_sorting_user_code.py\n",
      "Extracted user code from ../submissions/exercise-05\\guptashaurya_123039_5650396_Exercise #-1.ipynb to ../submissions/exercise-05\\guptashaurya_123039_5650396_Exercise #-1_user_code.py\n",
      "Extracted user code from ../submissions/exercise-05\\gutierrezxavier_107642_5676749_Copy_of_exercise_05_pandas_filtering_sorting.ipynb to ../submissions/exercise-05\\gutierrezxavier_107642_5676749_Copy_of_exercise_05_pandas_filtering_sorting_user_code.py\n",
      "Extracted user code from ../submissions/exercise-05\\haaseclayton_28317_5644577_Clayton_Haase_exercise_05_pandas_filtering_sorting.ipynb to ../submissions/exercise-05\\haaseclayton_28317_5644577_Clayton_Haase_exercise_05_pandas_filtering_sorting_user_code.py\n",
      "Extracted user code from ../submissions/exercise-05\\hollenbergwesley_LATE_106933_5679238_exercise_05_pandas_filtering_sorting.ipynb to ../submissions/exercise-05\\hollenbergwesley_LATE_106933_5679238_exercise_05_pandas_filtering_sorting_user_code.py\n",
      "Extracted user code from ../submissions/exercise-05\\huangtianyi_123943_5583818_exercise_05_pandas_filtering_sorting.ipynb to ../submissions/exercise-05\\huangtianyi_123943_5583818_exercise_05_pandas_filtering_sorting_user_code.py\n",
      "Extracted user code from ../submissions/exercise-05\\isaromero_89984_5582440_exercise_05_pandas_filtering_sorting.ipynb to ../submissions/exercise-05\\isaromero_89984_5582440_exercise_05_pandas_filtering_sorting_user_code.py\n",
      "Extracted user code from ../submissions/exercise-05\\khandelwalnupur_78587_5658758_exercise_05_pandas_filtering_sorting.ipynb to ../submissions/exercise-05\\khandelwalnupur_78587_5658758_exercise_05_pandas_filtering_sorting_user_code.py\n",
      "Extracted user code from ../submissions/exercise-05\\koziolmike_320890_5614882_exercise_05_pandas_filtering_sorting.ipynb to ../submissions/exercise-05\\koziolmike_320890_5614882_exercise_05_pandas_filtering_sorting_user_code.py\n",
      "Extracted user code from ../submissions/exercise-05\\kumarakash_223765_5675760_exercise_05_pandas_filtering_sorting.ipynb to ../submissions/exercise-05\\kumarakash_223765_5675760_exercise_05_pandas_filtering_sorting_user_code.py\n",
      "Extracted user code from ../submissions/exercise-05\\kusnomarc_68107_5590222_exercise_05_pandas_filtering_sorting.ipynb to ../submissions/exercise-05\\kusnomarc_68107_5590222_exercise_05_pandas_filtering_sorting_user_code.py\n",
      "Extracted user code from ../submissions/exercise-05\\laffertybrooke_22469_5665359_exercise_05_pandas_filtering_sorting.ipynb to ../submissions/exercise-05\\laffertybrooke_22469_5665359_exercise_05_pandas_filtering_sorting_user_code.py\n",
      "Extracted user code from ../submissions/exercise-05\\liuhongyu_117737_5675426_“exercise_05_pandas_filtering_sorting_ipynb”的副本.ipynb to ../submissions/exercise-05\\liuhongyu_117737_5675426_“exercise_05_pandas_filtering_sorting_ipynb”的副本_user_code.py\n",
      "Extracted user code from ../submissions/exercise-05\\loyeungtan_LATE_335767_5874275_Copy_of_exercise_05_pandas_filtering_sorting.ipynb to ../submissions/exercise-05\\loyeungtan_LATE_335767_5874275_Copy_of_exercise_05_pandas_filtering_sorting_user_code.py\n",
      "Extracted user code from ../submissions/exercise-05\\makmatt_LATE_76304_5703235_Copy_of_exercise_05_pandas_filtering_sorting.ipynb to ../submissions/exercise-05\\makmatt_LATE_76304_5703235_Copy_of_exercise_05_pandas_filtering_sorting_user_code.py\n",
      "Extracted user code from ../submissions/exercise-05\\manueldagracasaviosergio_338779_5666520_exercise_05_pandas_filtering_sorting.ipynb to ../submissions/exercise-05\\manueldagracasaviosergio_338779_5666520_exercise_05_pandas_filtering_sorting_user_code.py\n",
      "Extracted user code from ../submissions/exercise-05\\moykayla_62911_5596462_exercise_05_pandas_filtering_sorting.ipynb to ../submissions/exercise-05\\moykayla_62911_5596462_exercise_05_pandas_filtering_sorting_user_code.py\n",
      "Extracted user code from ../submissions/exercise-05\\nallacheruvusailaja_123155_5635494_exercise_05_pandas_filtering_sorting.ipynb to ../submissions/exercise-05\\nallacheruvusailaja_123155_5635494_exercise_05_pandas_filtering_sorting_user_code.py\n",
      "Extracted user code from ../submissions/exercise-05\\nathellaalekhya_16812_5586866_exercise_05_pandas_filtering_sorting.ipynb to ../submissions/exercise-05\\nathellaalekhya_16812_5586866_exercise_05_pandas_filtering_sorting_user_code.py\n",
      "Extracted user code from ../submissions/exercise-05\\ngangumvunzijob_54797_5676737_exercise_05_pandas_filtering_sorting.ipynb to ../submissions/exercise-05\\ngangumvunzijob_54797_5676737_exercise_05_pandas_filtering_sorting_user_code.py\n",
      "Extracted user code from ../submissions/exercise-05\\reedycameron_LATE_28968_5739569_exercise_05_pandas_filtering_sorting.ipynb to ../submissions/exercise-05\\reedycameron_LATE_28968_5739569_exercise_05_pandas_filtering_sorting_user_code.py\n",
      "Extracted user code from ../submissions/exercise-05\\rochadiego_32926_5665518_exercise_05_pandas_filtering_sorting.ipynb to ../submissions/exercise-05\\rochadiego_32926_5665518_exercise_05_pandas_filtering_sorting_user_code.py\n",
      "Extracted user code from ../submissions/exercise-05\\stirlingrobbie_86647_5585978_exercise_05_pandas_filtering_sorting.ipynb to ../submissions/exercise-05\\stirlingrobbie_86647_5585978_exercise_05_pandas_filtering_sorting_user_code.py\n",
      "Extracted user code from ../submissions/exercise-05\\tualanathan_8714_5670369_Copy_of_exercise_05_pandas_filtering_sorting.ipynb to ../submissions/exercise-05\\tualanathan_8714_5670369_Copy_of_exercise_05_pandas_filtering_sorting_user_code.py\n",
      "Extracted user code from ../submissions/exercise-05\\vismadelief_336765_5646568_exercise_05_pandas_filtering_sorting.ipynb to ../submissions/exercise-05\\vismadelief_336765_5646568_exercise_05_pandas_filtering_sorting_user_code.py\n",
      "Extracted user code from ../submissions/exercise-05\\weeethan_LATE_37165_5812027_exercise_05_pandas_filtering_sorting.ipynb to ../submissions/exercise-05\\weeethan_LATE_37165_5812027_exercise_05_pandas_filtering_sorting_user_code.py\n",
      "Extracted user code from ../submissions/exercise-05\\wongmichael_8203_5587319_exercise_05_pandas_filtering_sorting.ipynb to ../submissions/exercise-05\\wongmichael_8203_5587319_exercise_05_pandas_filtering_sorting_user_code.py\n",
      "Extracted user code from ../submissions/exercise-05\\xamonhtrybrandon_LATE_24990_6058592_exercise_05_pandas_filtering_sorting.ipynb to ../submissions/exercise-05\\xamonhtrybrandon_LATE_24990_6058592_exercise_05_pandas_filtering_sorting_user_code.py\n",
      "Extracted user code from ../submissions/exercise-05\\yoonashley_LATE_21465_6020334_exercise_05_pandas_filtering_sorting.ipynb to ../submissions/exercise-05\\yoonashley_LATE_21465_6020334_exercise_05_pandas_filtering_sorting_user_code.py\n",
      "Extracted user code from ../submissions/exercise-05\\yuanjasmine_57331_5670166_exercise_05_pandas_filtering_sorting.ipynb to ../submissions/exercise-05\\yuanjasmine_57331_5670166_exercise_05_pandas_filtering_sorting_user_code.py\n",
      "Extracted user code from ../submissions/exercise-05\\yuenkelly_LATE_60086_5683373_exercise_05_pandas_filtering_sorting.ipynb to ../submissions/exercise-05\\yuenkelly_LATE_60086_5683373_exercise_05_pandas_filtering_sorting_user_code.py\n",
      "Extracted user code from ../submissions/exercise-05\\yuzijun_112883_5595231_“exercise_05_pandas_filtering_sorting_ipynb”的副本.ipynb to ../submissions/exercise-05\\yuzijun_112883_5595231_“exercise_05_pandas_filtering_sorting_ipynb”的副本_user_code.py\n",
      "Extracted user code from ../submissions/exercise-05\\zentenoalejandro_LATE_21888_5813172_E5_AZ.ipynb to ../submissions/exercise-05\\zentenoalejandro_LATE_21888_5813172_E5_AZ_user_code.py\n",
      "Extracted user code from ../submissions/exercise-05\\zhangbrianna_7480_5630166_exercise_05_pandas_filtering_sorting.ipynb to ../submissions/exercise-05\\zhangbrianna_7480_5630166_exercise_05_pandas_filtering_sorting_user_code.py\n"
     ]
    }
   ],
   "source": [
    "from lambdagrader import *\n",
    "\n",
    "for notebook_path in notebook_files:\n",
    "    extracted_user_code = extract_user_code_from_notebook(notebook_path)\n",
    "\n",
    "    extracted_code_path = notebook_path.replace('.ipynb', '_user_code.py')\n",
    "    \n",
    "    print(f'Extracted user code from {notebook_path} to {extracted_code_path}')\n",
    "\n",
    "    with open(extracted_code_path, \"w\") as text_file:\n",
    "        text_file.write(extracted_user_code)"
   ]
  }
 ],
 "metadata": {
  "kernelspec": {
   "display_name": "Python 3 (ipykernel)",
   "language": "python",
   "name": "python3"
  },
  "language_info": {
   "codemirror_mode": {
    "name": "ipython",
    "version": 3
   },
   "file_extension": ".py",
   "mimetype": "text/x-python",
   "name": "python",
   "nbconvert_exporter": "python",
   "pygments_lexer": "ipython3",
   "version": "3.8.13"
  }
 },
 "nbformat": 4,
 "nbformat_minor": 5
}
